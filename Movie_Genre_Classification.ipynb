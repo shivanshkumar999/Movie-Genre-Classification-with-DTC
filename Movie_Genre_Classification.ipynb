{
  "nbformat": 4,
  "nbformat_minor": 0,
  "metadata": {
    "colab": {
      "provenance": []
    },
    "kernelspec": {
      "name": "python3",
      "display_name": "Python 3"
    },
    "language_info": {
      "name": "python"
    }
  },
  "cells": [
    {
      "cell_type": "code",
      "execution_count": 8,
      "metadata": {
        "id": "Ba-4btxAjZWX"
      },
      "outputs": [],
      "source": [
        "import pandas as pd\n",
        "import numpy as np\n",
        "\n",
        "data_raw = pd.read_csv(\"/content/train_data.csv\")\n",
        "data_raw = data_raw.dropna(axis=1)\n",
        "\n",
        "test = pd.read_csv('/content/test_data_solution.csv')\n",
        "test = test.dropna(axis=1)"
      ]
    },
    {
      "cell_type": "code",
      "source": [
        "data = pd.DataFrame()\n",
        "data['Description'] = data_raw['Description'][0:54200]\n",
        "data['Genre'] = data_raw['Genre'][0:54200]\n",
        "\n",
        "x_test = test['Description']\n",
        "y_test = test['Class']\n",
        "# x_test = countvector.fit_transform(test['Description'])\n",
        "\n",
        "# label_encoder = LabelEncoder()\n",
        "# data['Genre'] = label_encoder.fit_transform(data['Genre'])"
      ],
      "metadata": {
        "id": "NoPNBJSGq4hh"
      },
      "execution_count": 9,
      "outputs": []
    },
    {
      "cell_type": "code",
      "source": [
        "import string\n",
        "# string.punctuation\n",
        "\n",
        "def rem_punc(text):\n",
        "  punc_free = \"\".join(i for i in text if i not in string.punctuation)\n",
        "  return punc_free\n",
        "\n",
        "data['Description'] = data['Description'].apply(lambda x: rem_punc(x))\n",
        "print(data)\n",
        "\n",
        "test['Description'] = test['Description'].apply(lambda x: rem_punc(x))\n",
        "print(test)"
      ],
      "metadata": {
        "colab": {
          "base_uri": "https://localhost:8080/"
        },
        "id": "6-JbAT1FjzSL",
        "outputId": "b39918a0-c777-491a-a505-2376a62ec982"
      },
      "execution_count": 10,
      "outputs": [
        {
          "output_type": "stream",
          "name": "stdout",
          "text": [
            "                                             Description          Genre\n",
            "0       Listening in to a conversation between his do...         drama \n",
            "1       A brother and sister with a past incestuous r...      thriller \n",
            "2       As the bus empties the students for their fie...         adult \n",
            "3       To help their unemployed father make ends mee...         drama \n",
            "4       The films title refers not only to the unreco...         drama \n",
            "...                                                  ...            ...\n",
            "54195   In this concept essay documentary 16 particip...   documentary \n",
            "54196   Vulture Canyon is the only juvenile girls pri...         drama \n",
            "54197   Alex a young woman aged 18 lives with her mot...         drama \n",
            "54198   Ahmet Nurudin is a dervish and head of the Is...         drama \n",
            "54199   Follow the life of Stephen a young man just s...        comedy \n",
            "\n",
            "[54200 rows x 2 columns]\n",
            "                                  Movie          Class  \\\n",
            "0                 Edgar's Lunch (1998)       thriller    \n",
            "1             La guerra de papá (1977)         comedy    \n",
            "2          Off the Beaten Track (2010)    documentary    \n",
            "3               Meu Amigo Hindu (2015)          drama    \n",
            "4                    Er nu zhai (1955)          drama    \n",
            "...                                 ...            ...   \n",
            "54195   \"Tales of Light & Dark\" (2013)         horror    \n",
            "54196      Der letzte Mohikaner (1965)        western    \n",
            "54197              Oliver Twink (2007)          adult    \n",
            "54198                Slipstream (1973)          drama    \n",
            "54199        Curitiba Zero Grau (2010)          drama    \n",
            "\n",
            "                                             Description  \n",
            "0       LR Brane loves his life  his car his apartmen...  \n",
            "1       Spain March 1964 Quico is a very naughty chil...  \n",
            "2       One year in the life of Albin and his family ...  \n",
            "3       His father has died he hasnt spoken with his ...  \n",
            "4       Before he was known internationally as a mart...  \n",
            "...                                                  ...  \n",
            "54195   Covering multiple genres Tales of Light  Dark...  \n",
            "54196   As Alice and Cora Munro attempt to find their...  \n",
            "54197   A movie 169 years in the making Oliver Twist ...  \n",
            "54198   Popular but mysterious rock DJ Mike Mallard A...  \n",
            "54199   Curitiba is a city in movement with rhythms a...  \n",
            "\n",
            "[54200 rows x 3 columns]\n"
          ]
        }
      ]
    },
    {
      "cell_type": "code",
      "source": [
        "from sklearn.feature_extraction.text import CountVectorizer\n",
        "\n",
        "countvector = CountVectorizer()\n",
        "\n",
        "combined_data = data['Description']+x_test\n",
        "\n",
        "combined_data_vectors = countvector.fit_transform(combined_data)"
      ],
      "metadata": {
        "id": "GLWqXHCGweU4"
      },
      "execution_count": 13,
      "outputs": []
    },
    {
      "cell_type": "code",
      "source": [
        "x_train_counts = countvector.transform(data['Description'])\n",
        "x_test_counts = countvector.transform(x_test)\n",
        "\n",
        "y = data['Genre']\n",
        "y"
      ],
      "metadata": {
        "colab": {
          "base_uri": "https://localhost:8080/"
        },
        "id": "zU9mxnU_0Y7s",
        "outputId": "eb4244ae-6209-4a01-b3ea-34dbba33210d"
      },
      "execution_count": 14,
      "outputs": [
        {
          "output_type": "execute_result",
          "data": {
            "text/plain": [
              "0               drama \n",
              "1            thriller \n",
              "2               adult \n",
              "3               drama \n",
              "4               drama \n",
              "             ...      \n",
              "54195     documentary \n",
              "54196           drama \n",
              "54197           drama \n",
              "54198           drama \n",
              "54199          comedy \n",
              "Name: Genre, Length: 54200, dtype: object"
            ]
          },
          "metadata": {},
          "execution_count": 14
        }
      ]
    },
    {
      "cell_type": "code",
      "source": [
        "from sklearn.tree import DecisionTreeClassifier\n",
        "from sklearn.model_selection import train_test_split\n",
        "\n",
        "# x_train, x_test, y_train, y_test = train_test_split(x,y, test_size=0.3)"
      ],
      "metadata": {
        "id": "1UhD-lFv0fRL"
      },
      "execution_count": 15,
      "outputs": []
    },
    {
      "cell_type": "code",
      "source": [
        "model = DecisionTreeClassifier()"
      ],
      "metadata": {
        "id": "FMdbcN6k01Oc"
      },
      "execution_count": 16,
      "outputs": []
    },
    {
      "cell_type": "code",
      "source": [
        "model.fit(x_train_counts, y)"
      ],
      "metadata": {
        "colab": {
          "base_uri": "https://localhost:8080/",
          "height": 74
        },
        "id": "R1OIsME805B6",
        "outputId": "48d4033c-9688-402c-9828-a13b2b70131a"
      },
      "execution_count": 17,
      "outputs": [
        {
          "output_type": "execute_result",
          "data": {
            "text/plain": [
              "DecisionTreeClassifier()"
            ],
            "text/html": [
              "<style>#sk-container-id-1 {color: black;background-color: white;}#sk-container-id-1 pre{padding: 0;}#sk-container-id-1 div.sk-toggleable {background-color: white;}#sk-container-id-1 label.sk-toggleable__label {cursor: pointer;display: block;width: 100%;margin-bottom: 0;padding: 0.3em;box-sizing: border-box;text-align: center;}#sk-container-id-1 label.sk-toggleable__label-arrow:before {content: \"▸\";float: left;margin-right: 0.25em;color: #696969;}#sk-container-id-1 label.sk-toggleable__label-arrow:hover:before {color: black;}#sk-container-id-1 div.sk-estimator:hover label.sk-toggleable__label-arrow:before {color: black;}#sk-container-id-1 div.sk-toggleable__content {max-height: 0;max-width: 0;overflow: hidden;text-align: left;background-color: #f0f8ff;}#sk-container-id-1 div.sk-toggleable__content pre {margin: 0.2em;color: black;border-radius: 0.25em;background-color: #f0f8ff;}#sk-container-id-1 input.sk-toggleable__control:checked~div.sk-toggleable__content {max-height: 200px;max-width: 100%;overflow: auto;}#sk-container-id-1 input.sk-toggleable__control:checked~label.sk-toggleable__label-arrow:before {content: \"▾\";}#sk-container-id-1 div.sk-estimator input.sk-toggleable__control:checked~label.sk-toggleable__label {background-color: #d4ebff;}#sk-container-id-1 div.sk-label input.sk-toggleable__control:checked~label.sk-toggleable__label {background-color: #d4ebff;}#sk-container-id-1 input.sk-hidden--visually {border: 0;clip: rect(1px 1px 1px 1px);clip: rect(1px, 1px, 1px, 1px);height: 1px;margin: -1px;overflow: hidden;padding: 0;position: absolute;width: 1px;}#sk-container-id-1 div.sk-estimator {font-family: monospace;background-color: #f0f8ff;border: 1px dotted black;border-radius: 0.25em;box-sizing: border-box;margin-bottom: 0.5em;}#sk-container-id-1 div.sk-estimator:hover {background-color: #d4ebff;}#sk-container-id-1 div.sk-parallel-item::after {content: \"\";width: 100%;border-bottom: 1px solid gray;flex-grow: 1;}#sk-container-id-1 div.sk-label:hover label.sk-toggleable__label {background-color: #d4ebff;}#sk-container-id-1 div.sk-serial::before {content: \"\";position: absolute;border-left: 1px solid gray;box-sizing: border-box;top: 0;bottom: 0;left: 50%;z-index: 0;}#sk-container-id-1 div.sk-serial {display: flex;flex-direction: column;align-items: center;background-color: white;padding-right: 0.2em;padding-left: 0.2em;position: relative;}#sk-container-id-1 div.sk-item {position: relative;z-index: 1;}#sk-container-id-1 div.sk-parallel {display: flex;align-items: stretch;justify-content: center;background-color: white;position: relative;}#sk-container-id-1 div.sk-item::before, #sk-container-id-1 div.sk-parallel-item::before {content: \"\";position: absolute;border-left: 1px solid gray;box-sizing: border-box;top: 0;bottom: 0;left: 50%;z-index: -1;}#sk-container-id-1 div.sk-parallel-item {display: flex;flex-direction: column;z-index: 1;position: relative;background-color: white;}#sk-container-id-1 div.sk-parallel-item:first-child::after {align-self: flex-end;width: 50%;}#sk-container-id-1 div.sk-parallel-item:last-child::after {align-self: flex-start;width: 50%;}#sk-container-id-1 div.sk-parallel-item:only-child::after {width: 0;}#sk-container-id-1 div.sk-dashed-wrapped {border: 1px dashed gray;margin: 0 0.4em 0.5em 0.4em;box-sizing: border-box;padding-bottom: 0.4em;background-color: white;}#sk-container-id-1 div.sk-label label {font-family: monospace;font-weight: bold;display: inline-block;line-height: 1.2em;}#sk-container-id-1 div.sk-label-container {text-align: center;}#sk-container-id-1 div.sk-container {/* jupyter's `normalize.less` sets `[hidden] { display: none; }` but bootstrap.min.css set `[hidden] { display: none !important; }` so we also need the `!important` here to be able to override the default hidden behavior on the sphinx rendered scikit-learn.org. See: https://github.com/scikit-learn/scikit-learn/issues/21755 */display: inline-block !important;position: relative;}#sk-container-id-1 div.sk-text-repr-fallback {display: none;}</style><div id=\"sk-container-id-1\" class=\"sk-top-container\"><div class=\"sk-text-repr-fallback\"><pre>DecisionTreeClassifier()</pre><b>In a Jupyter environment, please rerun this cell to show the HTML representation or trust the notebook. <br />On GitHub, the HTML representation is unable to render, please try loading this page with nbviewer.org.</b></div><div class=\"sk-container\" hidden><div class=\"sk-item\"><div class=\"sk-estimator sk-toggleable\"><input class=\"sk-toggleable__control sk-hidden--visually\" id=\"sk-estimator-id-1\" type=\"checkbox\" checked><label for=\"sk-estimator-id-1\" class=\"sk-toggleable__label sk-toggleable__label-arrow\">DecisionTreeClassifier</label><div class=\"sk-toggleable__content\"><pre>DecisionTreeClassifier()</pre></div></div></div></div></div>"
            ]
          },
          "metadata": {},
          "execution_count": 17
        }
      ]
    },
    {
      "cell_type": "code",
      "source": [
        "y_pred = model.predict(x_test_counts)"
      ],
      "metadata": {
        "id": "VrLUjUMY08ZN"
      },
      "execution_count": 18,
      "outputs": []
    },
    {
      "cell_type": "code",
      "source": [
        "model.score(x_test_counts, test['Class'])"
      ],
      "metadata": {
        "colab": {
          "base_uri": "https://localhost:8080/"
        },
        "id": "fBezGcoX0_GG",
        "outputId": "e68f52fd-1b72-43e1-cdfc-7612b1d9072f"
      },
      "execution_count": 19,
      "outputs": [
        {
          "output_type": "execute_result",
          "data": {
            "text/plain": [
              "0.3586162361623616"
            ]
          },
          "metadata": {},
          "execution_count": 19
        }
      ]
    },
    {
      "cell_type": "code",
      "source": [
        "from sklearn.metrics import accuracy_score, classification_report"
      ],
      "metadata": {
        "id": "6n1OIFgu1VrE"
      },
      "execution_count": null,
      "outputs": []
    },
    {
      "cell_type": "code",
      "source": [
        "# acc = accuracy_score(y_test, y_pred)\n",
        "# acc\n",
        "# report = classification_report(y_test, y_pred)\n",
        "# print(report)"
      ],
      "metadata": {
        "colab": {
          "base_uri": "https://localhost:8080/"
        },
        "id": "OQcaRitf1W6_",
        "outputId": "944df29e-bd91-4df4-cfd3-0a0907acb6e2"
      },
      "execution_count": null,
      "outputs": [
        {
          "output_type": "execute_result",
          "data": {
            "text/plain": [
              "0.35671687672917307"
            ]
          },
          "metadata": {},
          "execution_count": 28
        }
      ]
    },
    {
      "cell_type": "code",
      "source": [
        "inp = \"When a sadistic serial killer begins murdering key political figures in Gotham, Batman is forced to investigate the city's hidden corruption and question his family's involvement.\"\n",
        "\n",
        "inp = countvector.transform([inp]).toarray()\n",
        "\n",
        "model.predict(inp)"
      ],
      "metadata": {
        "id": "nrPecDFi13h0",
        "colab": {
          "base_uri": "https://localhost:8080/"
        },
        "outputId": "cab6b072-5801-4b1c-c835-7e37bb0c1f0e"
      },
      "execution_count": 20,
      "outputs": [
        {
          "output_type": "execute_result",
          "data": {
            "text/plain": [
              "array([' drama '], dtype=object)"
            ]
          },
          "metadata": {},
          "execution_count": 20
        }
      ]
    }
  ]
}